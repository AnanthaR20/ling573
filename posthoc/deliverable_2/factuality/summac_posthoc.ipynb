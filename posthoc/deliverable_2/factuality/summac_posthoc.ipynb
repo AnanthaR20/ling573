{
 "cells": [
  {
   "cell_type": "code",
   "execution_count": 26,
   "id": "c7795862",
   "metadata": {},
   "outputs": [],
   "source": [
    "from summac.model_summac import SummaCZS, SummaCConv\n",
    "from datasets import load_dataset\n",
    "import pandas as pd\n",
    "from collections import defaultdict"
   ]
  },
  {
   "cell_type": "code",
   "execution_count": 27,
   "id": "2fb3aa3d",
   "metadata": {},
   "outputs": [],
   "source": [
    "#initialize model\n",
    "model_zs = SummaCZS(granularity=\"sentence\", model_name=\"vitc\", device=\"cpu\") # If you have a GPU: switch to: device=\"cuda\"\n",
    "model_conv = SummaCConv(models=[\"vitc\"], bins='percentile', granularity=\"sentence\", nli_labels=\"e\", device=\"cpu\", agg=\"mean\")"
   ]
  },
  {
   "cell_type": "code",
   "execution_count": 28,
   "id": "0225f27c",
   "metadata": {},
   "outputs": [],
   "source": [
    "#load our gold data\n",
    "gold_sum = load_dataset(\"FiscalNote/billsum\")[\"test\"].to_pandas()[\"summary\"].tolist()\n",
    "gold_doc = load_dataset(\"FiscalNote/billsum\")[\"test\"].to_pandas()[\"text\"].tolist()\n",
    "#load generated summaries\n",
    "baseline = pd.read_csv(\"../output/baseline_test.csv\")"
   ]
  },
  {
   "cell_type": "code",
   "execution_count": null,
   "id": "bcc9ba85-6691-4986-ad26-7939184fec61",
   "metadata": {},
   "outputs": [
    {
     "name": "stdout",
     "output_type": "stream",
     "text": [
      "processing pair: 0\n"
     ]
    }
   ],
   "source": [
    "#initialize data structure to store values\n",
    "ref_list_conv = [9999] * baseline.shape[0]\n",
    "gen_list_conv = [9999] * baseline.shape[0]\n",
    "ref_list_zs = [9999] * baseline.shape[0]\n",
    "gen_list_zs = [9999] * baseline.shape[0]\n",
    "\n",
    "#initialize a safety output file in case of segmentation issues\n",
    "safety_output = 'summac_safety.txt'\n",
    "#clear safety output:\n",
    "with open(safety_output, 'w') as file:\n",
    "    file.write('')\n",
    "#itereate through rows and calculate scores\n",
    "#for i in range(baseline.shape[0]):\n",
    "for i in range(3):\n",
    "    print(\"processing pair: \" + str(i))\n",
    "    doc = gold_doc[i]\n",
    "    ref = gold_sum[i]\n",
    "    gen = baseline.loc[i].summary_generated\n",
    "    ref_score_conv = model_conv.score([ref], [doc])\n",
    "    if ref_score_conv:\n",
    "        ref_list_conv[i] = ref_score_conv\n",
    "    gen_score_conv = model_conv.score([gen], [doc])\n",
    "    if gen_score_conv:\n",
    "        gen_list_conv[i] = gen_score_conv\n",
    "    with open(safety_output, 'a') as file:\n",
    "        file.write(\"ref_conv:\" + str(ref_score_conv) + \" gen_conv:\" + str(gen_score_conv)+ '\\n')\n",
    "output_dict = {'ref_conv': ref_list_conv, 'gen_conv': gen_list_conv}\n",
    "df = pd.DataFrame(output_dict)\n",
    "df.to_csv('summac_scores.csv', index=False) \n",
    "\n",
    "    "
   ]
  },
  {
   "cell_type": "code",
   "execution_count": null,
   "id": "adb1a352-e66c-401b-971c-0feec1274f99",
   "metadata": {},
   "outputs": [],
   "source": []
  },
  {
   "cell_type": "code",
   "execution_count": null,
   "id": "dd9f620c-7793-4a5f-81dc-f8ccf5a9b829",
   "metadata": {},
   "outputs": [],
   "source": []
  },
  {
   "cell_type": "code",
   "execution_count": null,
   "id": "1ed5bdc9-aa54-458e-9f4e-cab98151cd68",
   "metadata": {},
   "outputs": [],
   "source": []
  },
  {
   "cell_type": "code",
   "execution_count": null,
   "id": "5058d9ea-40d7-4512-95bf-94e6825d5bd0",
   "metadata": {},
   "outputs": [],
   "source": []
  }
 ],
 "metadata": {
  "kernelspec": {
   "display_name": "Python 3 (ipykernel)",
   "language": "python",
   "name": "python3"
  },
  "language_info": {
   "codemirror_mode": {
    "name": "ipython",
    "version": 3
   },
   "file_extension": ".py",
   "mimetype": "text/x-python",
   "name": "python",
   "nbconvert_exporter": "python",
   "pygments_lexer": "ipython3",
   "version": "3.10.17"
  }
 },
 "nbformat": 4,
 "nbformat_minor": 5
}
